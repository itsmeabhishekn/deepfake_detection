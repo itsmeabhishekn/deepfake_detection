{
  "cells": [
    {
      "cell_type": "code",
      "execution_count": 1,
      "metadata": {
        "id": "ropJfqUTa_Mv"
      },
      "outputs": [],
      "source": [
        "import cv2\n",
        "import dlib #used for face detection\n",
        "import numpy as np\n",
        "from google.colab.patches import cv2_imshow\n",
        "import glob"
      ]
    },
    {
      "cell_type": "code",
      "execution_count": 2,
      "metadata": {
        "colab": {
          "base_uri": "https://localhost:8080/"
        },
        "id": "JPZ9_XW2bHmH",
        "outputId": "9b054e47-7e57-406b-c7e0-2be702651b2c"
      },
      "outputs": [
        {
          "output_type": "stream",
          "name": "stdout",
          "text": [
            "Mounted at /content/gdrive/\n"
          ]
        }
      ],
      "source": [
        "from google.colab import drive\n",
        "drive.mount('/content/gdrive/', force_remount=True)"
      ]
    },
    {
      "cell_type": "code",
      "execution_count": 3,
      "metadata": {
        "id": "X12I2peWbdIv"
      },
      "outputs": [],
      "source": [
        "from tensorflow.keras.applications import InceptionResNetV2\n",
        "from tensorflow.keras.layers import InputLayer\n",
        "from tensorflow.keras.models import Model\n",
        "from tensorflow.keras.models import Sequential\n",
        "\n",
        "from tensorflow.keras.models import Model\n",
        "from tensorflow.keras.models import model_from_json\n",
        "from tensorflow.keras.layers import Input\n",
        "from tensorflow.keras.layers import GRU\n",
        "from tensorflow.keras.layers import Dense\n",
        "from tensorflow.keras import optimizers\n",
        "\n",
        "from tensorflow.keras.utils import to_categorical\n",
        "from tensorflow.keras.callbacks import ReduceLROnPlateau, EarlyStopping\n",
        "from sklearn.model_selection import train_test_split"
      ]
    },
    {
      "cell_type": "code",
      "execution_count": 4,
      "metadata": {
        "id": "nGtXxdIwbtvS",
        "colab": {
          "base_uri": "https://localhost:8080/"
        },
        "outputId": "ce4d6a22-84ff-40da-cf72-f046d36eefa9"
      },
      "outputs": [
        {
          "output_type": "stream",
          "name": "stdout",
          "text": [
            "Downloading data from https://storage.googleapis.com/tensorflow/keras-applications/inception_resnet_v2/inception_resnet_v2_weights_tf_dim_ordering_tf_kernels_notop.h5\n",
            "219062272/219055592 [==============================] - 1s 0us/step\n",
            "219070464/219055592 [==============================] - 1s 0us/step\n"
          ]
        }
      ],
      "source": [
        "base_model = InceptionResNetV2(include_top=False, weights='imagenet', input_shape=(128,128,3))\n",
        "model = Model(inputs=base_model.input, outputs=base_model.get_layer('conv_7b').output)\n",
        "image_size = (128, 128)\n",
        "\n",
        "features = []\n",
        "labels   = []\n",
        "detector = dlib.get_frontal_face_detector()"
      ]
    },
    {
      "cell_type": "code",
      "execution_count": null,
      "metadata": {
        "id": "2Yp9wGksbjTQ"
      },
      "outputs": [],
      "source": [
        "\n",
        "real_data_list = glob.glob(\"/content/gdrive/MyDrive/main_proj/real/*.mp4\",recursive=True)\n",
        "\n",
        "fake_data_list = glob.glob(\"/content/gdrive/MyDrive/main_proj/fake/fake/*.mp4\",recursive=True)\n",
        "\n",
        "res = [0,1]\n",
        "\n",
        "def preprocess(video_data_list,res):\n",
        "    for vid in video_data_list[:20]:\n",
        "        cap = cv2.VideoCapture(vid)\n",
        "        while True:\n",
        "            ret, image = cap.read()\n",
        "            if not ret:\n",
        "                break\n",
        "            rects = detector(image, 0)\n",
        "            for i, d in enumerate(rects):\n",
        "                x1 = d.left()\n",
        "                y1 = d.top()\n",
        "                x2 = d.right()\n",
        "                y2 = d.bottom()\n",
        "                crop_img = image[y1:y2, x1:x2]\n",
        "                try:\n",
        "                    x = np.expand_dims(crop_img, axis=0)\n",
        "                    feature = model.predict(x)\n",
        "                    #print('feature',feature)\n",
        "                    flat = feature.flatten()\n",
        "                    features.append(flat)   \n",
        "                    labels.append(res)\n",
        "                except:\n",
        "                    break  \n",
        "    cv2.destroyAllWindows()\n",
        "    cap.release()  \n",
        "    #print(len(features))\n",
        "\n",
        "preprocess(real_data_list,res[0])\n",
        "\n",
        "preprocess(fake_data_list,res[1])\n"
      ]
    },
    {
      "cell_type": "code",
      "execution_count": 6,
      "metadata": {
        "id": "8V0hg-dzc3ZT"
      },
      "outputs": [],
      "source": [
        "X = []\n",
        "Y = []\n",
        "for feature in features:\n",
        "  #print(feature.shape)\n",
        "  X.append(feature[0:1536]) #X.append(feature[0:6144])\n",
        "\n",
        "X = np.array(X)\n",
        "Y = to_categorical(labels,2) "
      ]
    },
    {
      "cell_type": "code",
      "execution_count": 7,
      "metadata": {
        "colab": {
          "base_uri": "https://localhost:8080/"
        },
        "id": "GteaQqX4c7hy",
        "outputId": "4eb3fb5a-54b3-494d-c5de-85c563d2bbad"
      },
      "outputs": [
        {
          "output_type": "stream",
          "name": "stdout",
          "text": [
            "Model: \"sequential\"\n",
            "_________________________________________________________________\n",
            " Layer (type)                Output Shape              Param #   \n",
            "=================================================================\n",
            " gru (GRU)                   (None, 48, 256)           222720    \n",
            "                                                                 \n",
            " gru_1 (GRU)                 (None, 256)               394752    \n",
            "                                                                 \n",
            " dense (Dense)               (None, 2)                 514       \n",
            "                                                                 \n",
            "=================================================================\n",
            "Total params: 617,986\n",
            "Trainable params: 617,986\n",
            "Non-trainable params: 0\n",
            "_________________________________________________________________\n"
          ]
        }
      ],
      "source": [
        "classifctn_model = Sequential()\n",
        "classifctn_model.add(Input(shape=(48,32)))\n",
        "classifctn_model.add(GRU(256, return_sequences=True, activation='tanh'))\n",
        "classifctn_model.add(GRU(256,activation='tanh'))\n",
        "classifctn_model.add(Dense(2))\n",
        "\n",
        "classifctn_model.compile(loss='binary_crossentropy',\n",
        "              optimizer=optimizers.Adam(learning_rate=1e-5, beta_1=0.9, beta_2=0.999, epsilon=None, decay=0.0, amsgrad=False),\n",
        "              metrics=['accuracy'])\n",
        "classifctn_model.summary()"
      ]
    },
    {
      "cell_type": "code",
      "execution_count": 8,
      "metadata": {
        "colab": {
          "base_uri": "https://localhost:8080/"
        },
        "id": "GCiUmYf5dAF7",
        "outputId": "6db7132c-a1c6-40b0-e305-36a42d821906"
      },
      "outputs": [
        {
          "output_type": "stream",
          "name": "stdout",
          "text": [
            "Epoch 1/20\n",
            "49/49 [==============================] - 29s 522ms/step - loss: 6.2712 - accuracy: 0.5871 - val_loss: 3.5625 - val_accuracy: 0.5881\n",
            "Epoch 2/20\n",
            "49/49 [==============================] - 25s 503ms/step - loss: 3.5692 - accuracy: 0.5869 - val_loss: 3.5329 - val_accuracy: 0.5881\n",
            "Epoch 3/20\n",
            "49/49 [==============================] - 26s 528ms/step - loss: 3.5447 - accuracy: 0.5869 - val_loss: 3.5169 - val_accuracy: 0.5881\n",
            "Epoch 4/20\n",
            "49/49 [==============================] - 27s 547ms/step - loss: 3.5273 - accuracy: 0.5869 - val_loss: 3.5037 - val_accuracy: 0.5881\n",
            "Epoch 5/20\n",
            "49/49 [==============================] - 25s 505ms/step - loss: 3.5099 - accuracy: 0.5869 - val_loss: 3.4923 - val_accuracy: 0.5881\n",
            "Epoch 6/20\n",
            "49/49 [==============================] - 26s 537ms/step - loss: 3.4951 - accuracy: 0.5869 - val_loss: 3.4824 - val_accuracy: 0.5881\n",
            "Epoch 7/20\n",
            "49/49 [==============================] - 25s 503ms/step - loss: 3.4837 - accuracy: 0.5869 - val_loss: 3.4740 - val_accuracy: 0.5881\n",
            "Epoch 8/20\n",
            "49/49 [==============================] - 24s 498ms/step - loss: 3.4739 - accuracy: 0.5869 - val_loss: 3.4671 - val_accuracy: 0.5881\n",
            "Epoch 9/20\n",
            "49/49 [==============================] - 25s 504ms/step - loss: 3.4656 - accuracy: 0.5869 - val_loss: 3.4612 - val_accuracy: 0.5881\n",
            "Epoch 10/20\n",
            "49/49 [==============================] - 25s 503ms/step - loss: 3.4587 - accuracy: 0.5869 - val_loss: 3.4559 - val_accuracy: 0.5881\n",
            "Epoch 11/20\n",
            "49/49 [==============================] - 25s 503ms/step - loss: 3.4530 - accuracy: 0.5869 - val_loss: 3.4508 - val_accuracy: 0.5881\n",
            "Epoch 12/20\n",
            "49/49 [==============================] - 25s 506ms/step - loss: 3.4488 - accuracy: 0.5869 - val_loss: 3.4466 - val_accuracy: 0.5881\n",
            "Epoch 13/20\n",
            "49/49 [==============================] - 25s 504ms/step - loss: 3.4440 - accuracy: 0.5869 - val_loss: 3.4426 - val_accuracy: 0.5881\n",
            "Epoch 14/20\n",
            "49/49 [==============================] - 25s 504ms/step - loss: 3.4411 - accuracy: 0.5869 - val_loss: 3.4503 - val_accuracy: 0.5881\n",
            "Epoch 15/20\n",
            "49/49 [==============================] - 25s 506ms/step - loss: 3.4341 - accuracy: 0.5869 - val_loss: 3.4357 - val_accuracy: 0.5881\n",
            "Epoch 16/20\n",
            "49/49 [==============================] - 25s 504ms/step - loss: 3.4301 - accuracy: 0.5869 - val_loss: 3.4313 - val_accuracy: 0.5881\n",
            "Epoch 17/20\n",
            "49/49 [==============================] - 25s 506ms/step - loss: 3.4258 - accuracy: 0.5869 - val_loss: 3.4382 - val_accuracy: 0.5881\n",
            "Epoch 18/20\n",
            "49/49 [==============================] - 26s 535ms/step - loss: 3.4217 - accuracy: 0.5869 - val_loss: 3.4237 - val_accuracy: 0.5881\n",
            "Epoch 19/20\n",
            "49/49 [==============================] - 25s 504ms/step - loss: 3.4191 - accuracy: 0.5869 - val_loss: 3.4195 - val_accuracy: 0.5881\n",
            "Epoch 20/20\n",
            "49/49 [==============================] - 25s 503ms/step - loss: 3.4155 - accuracy: 0.5869 - val_loss: 3.4155 - val_accuracy: 0.5881\n"
          ]
        }
      ],
      "source": [
        "#Train-Test split\n",
        "X = X.reshape(-1,48,32)\n",
        "X_train, X_val, Y_train, Y_val = train_test_split(X, Y, test_size = 0.1, random_state=5)\n",
        "#early_stopping = EarlyStopping(monitor='val_loss',min_delta=0,patience=2,verbose=0, mode='auto')\n",
        "EPOCHS = 20\n",
        "BATCH_SIZE = 100\n",
        "history = classifctn_model.fit(X_train, Y_train, batch_size = BATCH_SIZE, epochs = EPOCHS, validation_data = (X_val, Y_val), verbose = 1)"
      ]
    },
    {
      "cell_type": "code",
      "execution_count": 9,
      "metadata": {
        "colab": {
          "base_uri": "https://localhost:8080/",
          "height": 295
        },
        "id": "sjcVwg10dQrE",
        "outputId": "f37c6de5-7936-4559-fde2-4a83208c93e8"
      },
      "outputs": [
        {
          "output_type": "display_data",
          "data": {
            "text/plain": [
              "<Figure size 432x288 with 1 Axes>"
            ],
            "image/png": "[encoded data removed]"
          },
          "metadata": {
            "needs_background": "light"
          }
        }
      ],
      "source": [
        "# Compute ROC curve and ROC area for each class\n",
        "from sklearn.metrics import roc_curve, auc\n",
        "\n",
        "n_classes = 2\n",
        "fpr = dict()\n",
        "tpr = dict()\n",
        "roc_auc = dict()\n",
        "pred = classifctn_model.predict(X_val)\n",
        "#print(Y_val)\n",
        "#print(pred)\n",
        "for i in range(n_classes):\n",
        "    fpr[i], tpr[i], _ = roc_curve(Y_val[:, i], pred[:, i])\n",
        "    roc_auc[i] = auc(fpr[i], tpr[i])\n",
        "\n",
        "import matplotlib.pyplot as plt\n",
        "# Compute micro-average ROC curve and ROC area\n",
        "fpr[\"micro\"], tpr[\"micro\"], _ = roc_curve(Y_val.ravel(), pred.ravel())\n",
        "roc_auc[\"micro\"] = auc(fpr[\"micro\"], tpr[\"micro\"])\n",
        "\n",
        "plt.figure()\n",
        "lw = 2\n",
        "plt.plot(fpr[0], tpr[0], color='darkorange',\n",
        "         lw=lw, label='ROC curve (area = %0.2f)' % roc_auc[1])\n",
        "plt.plot([0, 1], [0, 1], color='navy', lw=lw, linestyle='--')\n",
        "plt.xlim([0.0, 1.0])\n",
        "plt.ylim([0.0, 1.05])\n",
        "plt.xlabel('False Positive Rate')\n",
        "plt.ylabel('True Positive Rate')\n",
        "plt.title('Receiver operating characteristic example')\n",
        "plt.legend(loc=\"lower right\")\n",
        "plt.show()\n"
      ]
    },
    {
      "cell_type": "code",
      "execution_count": 9,
      "metadata": {
        "id": "6G7Cf9DB5Zjl"
      },
      "outputs": [],
      "source": [
        ""
      ]
    },
    {
      "cell_type": "code",
      "execution_count": 10,
      "metadata": {
        "id": "hExZFxK3jhay"
      },
      "outputs": [],
      "source": [
        "#vid = demo\n",
        "#vid = \"/content/gdrive/MyDrive/main_proj/testvid/r/05.mp4\""
      ]
    },
    {
      "cell_type": "code",
      "source": [
        "!pip install gradio"
      ],
      "metadata": {
        "id": "uUWPdfyjC3_j",
        "colab": {
          "base_uri": "https://localhost:8080/"
        },
        "outputId": "ed3bb983-3dc5-4eec-a65a-c0df17d388c4"
      },
      "execution_count": 13,
      "outputs": [
        {
          "output_type": "stream",
          "name": "stdout",
          "text": [
            "Looking in indexes: https://pypi.org/simple, https://us-python.pkg.dev/colab-wheels/public/simple/\n",
            "Collecting gradio\n",
            "  Downloading gradio-3.0.20-py3-none-any.whl (5.1 MB)\n",
            "\u001b[K     |████████████████████████████████| 5.1 MB 27.7 MB/s \n",
            "\u001b[?25hRequirement already satisfied: numpy in /usr/local/lib/python3.7/dist-packages (from gradio) (1.21.6)\n",
            "Requirement already satisfied: matplotlib in /usr/local/lib/python3.7/dist-packages (from gradio) (3.2.2)\n",
            "Requirement already satisfied: requests in /usr/local/lib/python3.7/dist-packages (from gradio) (2.23.0)\n",
            "Collecting orjson\n",
            "  Downloading orjson-3.7.5-cp37-cp37m-manylinux_2_17_x86_64.manylinux2014_x86_64.whl (272 kB)\n",
            "\u001b[K     |████████████████████████████████| 272 kB 66.8 MB/s \n",
            "\u001b[?25hCollecting pycryptodome\n",
            "  Downloading pycryptodome-3.15.0-cp35-abi3-manylinux2010_x86_64.whl (2.3 MB)\n",
            "\u001b[K     |████████████████████████████████| 2.3 MB 48.0 MB/s \n",
            "\u001b[?25hCollecting paramiko\n",
            "  Downloading paramiko-2.11.0-py2.py3-none-any.whl (212 kB)\n",
            "\u001b[K     |████████████████████████████████| 212 kB 69.2 MB/s \n",
            "\u001b[?25hRequirement already satisfied: Jinja2 in /usr/local/lib/python3.7/dist-packages (from gradio) (2.11.3)\n",
            "Requirement already satisfied: pillow in /usr/local/lib/python3.7/dist-packages (from gradio) (7.1.2)\n",
            "Collecting analytics-python\n",
            "  Downloading analytics_python-1.4.0-py2.py3-none-any.whl (15 kB)\n",
            "Collecting uvicorn\n",
            "  Downloading uvicorn-0.18.2-py3-none-any.whl (57 kB)\n",
            "\u001b[K     |████████████████████████████████| 57 kB 5.9 MB/s \n",
            "\u001b[?25hRequirement already satisfied: pandas in /usr/local/lib/python3.7/dist-packages (from gradio) (1.3.5)\n",
            "Collecting ffmpy\n",
            "  Downloading ffmpy-0.3.0.tar.gz (4.8 kB)\n",
            "Collecting pydub\n",
            "  Downloading pydub-0.25.1-py2.py3-none-any.whl (32 kB)\n",
            "Collecting fastapi\n",
            "  Downloading fastapi-0.78.0-py3-none-any.whl (54 kB)\n",
            "\u001b[K     |████████████████████████████████| 54 kB 3.6 MB/s \n",
            "\u001b[?25hCollecting python-multipart\n",
            "  Downloading python-multipart-0.0.5.tar.gz (32 kB)\n",
            "Collecting markdown-it-py[linkify,plugins]\n",
            "  Downloading markdown_it_py-2.1.0-py3-none-any.whl (84 kB)\n",
            "\u001b[K     |████████████████████████████████| 84 kB 3.8 MB/s \n",
            "\u001b[?25hCollecting fsspec\n",
            "  Downloading fsspec-2022.5.0-py3-none-any.whl (140 kB)\n",
            "\u001b[K     |████████████████████████████████| 140 kB 61.0 MB/s \n",
            "\u001b[?25hCollecting aiohttp\n",
            "  Downloading aiohttp-3.8.1-cp37-cp37m-manylinux_2_5_x86_64.manylinux1_x86_64.manylinux_2_12_x86_64.manylinux2010_x86_64.whl (1.1 MB)\n",
            "\u001b[K     |████████████████████████████████| 1.1 MB 50.0 MB/s \n",
            "\u001b[?25hCollecting frozenlist>=1.1.1\n",
            "  Downloading frozenlist-1.3.0-cp37-cp37m-manylinux_2_5_x86_64.manylinux1_x86_64.manylinux_2_17_x86_64.manylinux2014_x86_64.whl (144 kB)\n",
            "\u001b[K     |████████████████████████████████| 144 kB 61.1 MB/s \n",
            "\u001b[?25hRequirement already satisfied: typing-extensions>=3.7.4 in /usr/local/lib/python3.7/dist-packages (from aiohttp->gradio) (4.1.1)\n",
            "Collecting async-timeout<5.0,>=4.0.0a3\n",
            "  Downloading async_timeout-4.0.2-py3-none-any.whl (5.8 kB)\n",
            "Requirement already satisfied: attrs>=17.3.0 in /usr/local/lib/python3.7/dist-packages (from aiohttp->gradio) (21.4.0)\n",
            "Requirement already satisfied: charset-normalizer<3.0,>=2.0 in /usr/local/lib/python3.7/dist-packages (from aiohttp->gradio) (2.0.12)\n",
            "Collecting multidict<7.0,>=4.5\n",
            "  Downloading multidict-6.0.2-cp37-cp37m-manylinux_2_17_x86_64.manylinux2014_x86_64.whl (94 kB)\n",
            "\u001b[K     |████████████████████████████████| 94 kB 4.1 MB/s \n",
            "\u001b[?25hCollecting aiosignal>=1.1.2\n",
            "  Downloading aiosignal-1.2.0-py3-none-any.whl (8.2 kB)\n",
            "Collecting yarl<2.0,>=1.0\n",
            "  Downloading yarl-1.7.2-cp37-cp37m-manylinux_2_5_x86_64.manylinux1_x86_64.manylinux_2_12_x86_64.manylinux2010_x86_64.whl (271 kB)\n",
            "\u001b[K     |████████████████████████████████| 271 kB 62.0 MB/s \n",
            "\u001b[?25hCollecting asynctest==0.13.0\n",
            "  Downloading asynctest-0.13.0-py3-none-any.whl (26 kB)\n",
            "Requirement already satisfied: idna>=2.0 in /usr/local/lib/python3.7/dist-packages (from yarl<2.0,>=1.0->aiohttp->gradio) (2.10)\n",
            "Collecting backoff==1.10.0\n",
            "  Downloading backoff-1.10.0-py2.py3-none-any.whl (31 kB)\n",
            "Collecting monotonic>=1.5\n",
            "  Downloading monotonic-1.6-py2.py3-none-any.whl (8.2 kB)\n",
            "Requirement already satisfied: python-dateutil>2.1 in /usr/local/lib/python3.7/dist-packages (from analytics-python->gradio) (2.8.2)\n",
            "Requirement already satisfied: six>=1.5 in /usr/local/lib/python3.7/dist-packages (from analytics-python->gradio) (1.15.0)\n",
            "Requirement already satisfied: certifi>=2017.4.17 in /usr/local/lib/python3.7/dist-packages (from requests->gradio) (2022.6.15)\n",
            "Requirement already satisfied: urllib3!=1.25.0,!=1.25.1,<1.26,>=1.21.1 in /usr/local/lib/python3.7/dist-packages (from requests->gradio) (1.24.3)\n",
            "Requirement already satisfied: chardet<4,>=3.0.2 in /usr/local/lib/python3.7/dist-packages (from requests->gradio) (3.0.4)\n",
            "Collecting starlette==0.19.1\n",
            "  Downloading starlette-0.19.1-py3-none-any.whl (63 kB)\n",
            "\u001b[K     |████████████████████████████████| 63 kB 1.9 MB/s \n",
            "\u001b[?25hRequirement already satisfied: pydantic!=1.7,!=1.7.1,!=1.7.2,!=1.7.3,!=1.8,!=1.8.1,<2.0.0,>=1.6.2 in /usr/local/lib/python3.7/dist-packages (from fastapi->gradio) (1.8.2)\n",
            "Collecting anyio<5,>=3.4.0\n",
            "  Downloading anyio-3.6.1-py3-none-any.whl (80 kB)\n",
            "\u001b[K     |████████████████████████████████| 80 kB 9.8 MB/s \n",
            "\u001b[?25hCollecting sniffio>=1.1\n",
            "  Downloading sniffio-1.2.0-py3-none-any.whl (10 kB)\n",
            "Requirement already satisfied: MarkupSafe>=0.23 in /usr/local/lib/python3.7/dist-packages (from Jinja2->gradio) (2.0.1)\n",
            "Collecting mdurl~=0.1\n",
            "  Downloading mdurl-0.1.1-py3-none-any.whl (10 kB)\n",
            "Collecting mdit-py-plugins\n",
            "  Downloading mdit_py_plugins-0.3.0-py3-none-any.whl (43 kB)\n",
            "\u001b[K     |████████████████████████████████| 43 kB 2.4 MB/s \n",
            "\u001b[?25hCollecting linkify-it-py~=1.0\n",
            "  Downloading linkify_it_py-1.0.3-py3-none-any.whl (19 kB)\n",
            "Collecting uc-micro-py\n",
            "  Downloading uc_micro_py-1.0.1-py3-none-any.whl (6.2 kB)\n",
            "Requirement already satisfied: cycler>=0.10 in /usr/local/lib/python3.7/dist-packages (from matplotlib->gradio) (0.11.0)\n",
            "Requirement already satisfied: kiwisolver>=1.0.1 in /usr/local/lib/python3.7/dist-packages (from matplotlib->gradio) (1.4.3)\n",
            "Requirement already satisfied: pyparsing!=2.0.4,!=2.1.2,!=2.1.6,>=2.0.1 in /usr/local/lib/python3.7/dist-packages (from matplotlib->gradio) (3.0.9)\n",
            "Requirement already satisfied: pytz>=2017.3 in /usr/local/lib/python3.7/dist-packages (from pandas->gradio) (2022.1)\n",
            "Collecting bcrypt>=3.1.3\n",
            "  Downloading bcrypt-3.2.2-cp36-abi3-manylinux_2_17_x86_64.manylinux2014_x86_64.manylinux_2_24_x86_64.whl (62 kB)\n",
            "\u001b[K     |████████████████████████████████| 62 kB 1.0 MB/s \n",
            "\u001b[?25hCollecting pynacl>=1.0.1\n",
            "  Downloading PyNaCl-1.5.0-cp36-abi3-manylinux_2_17_x86_64.manylinux2014_x86_64.manylinux_2_24_x86_64.whl (856 kB)\n",
            "\u001b[K     |████████████████████████████████| 856 kB 40.6 MB/s \n",
            "\u001b[?25hCollecting cryptography>=2.5\n",
            "  Downloading cryptography-37.0.2-cp36-abi3-manylinux_2_24_x86_64.whl (4.0 MB)\n",
            "\u001b[K     |████████████████████████████████| 4.0 MB 51.8 MB/s \n",
            "\u001b[?25hRequirement already satisfied: cffi>=1.1 in /usr/local/lib/python3.7/dist-packages (from bcrypt>=3.1.3->paramiko->gradio) (1.15.0)\n",
            "Requirement already satisfied: pycparser in /usr/local/lib/python3.7/dist-packages (from cffi>=1.1->bcrypt>=3.1.3->paramiko->gradio) (2.21)\n",
            "Collecting h11>=0.8\n",
            "  Downloading h11-0.13.0-py3-none-any.whl (58 kB)\n",
            "\u001b[K     |████████████████████████████████| 58 kB 7.1 MB/s \n",
            "\u001b[?25hRequirement already satisfied: click>=7.0 in /usr/local/lib/python3.7/dist-packages (from uvicorn->gradio) (7.1.2)\n",
            "Building wheels for collected packages: ffmpy, python-multipart\n",
            "  Building wheel for ffmpy (setup.py) ... \u001b[?25l\u001b[?25hdone\n",
            "  Created wheel for ffmpy: filename=ffmpy-0.3.0-py3-none-any.whl size=4712 sha256=96398990edc2b3ab1479e7b953418177212e43dc739b9d22747e33e92b521b1b\n",
            "  Stored in directory: /root/.cache/pip/wheels/13/e4/6c/e8059816e86796a597c6e6b0d4c880630f51a1fcfa0befd5e6\n",
            "  Building wheel for python-multipart (setup.py) ... \u001b[?25l\u001b[?25hdone\n",
            "  Created wheel for python-multipart: filename=python_multipart-0.0.5-py3-none-any.whl size=31678 sha256=010a7ddc1964a5ba2efd31c94bbd3799da35d9ab921278740d609aa389224f3a\n",
            "  Stored in directory: /root/.cache/pip/wheels/2c/41/7c/bfd1c180534ffdcc0972f78c5758f89881602175d48a8bcd2c\n",
            "Successfully built ffmpy python-multipart\n",
            "Installing collected packages: sniffio, mdurl, uc-micro-py, multidict, markdown-it-py, frozenlist, anyio, yarl, starlette, pynacl, monotonic, mdit-py-plugins, linkify-it-py, h11, cryptography, bcrypt, backoff, asynctest, async-timeout, aiosignal, uvicorn, python-multipart, pydub, pycryptodome, paramiko, orjson, fsspec, ffmpy, fastapi, analytics-python, aiohttp, gradio\n",
            "Successfully installed aiohttp-3.8.1 aiosignal-1.2.0 analytics-python-1.4.0 anyio-3.6.1 async-timeout-4.0.2 asynctest-0.13.0 backoff-1.10.0 bcrypt-3.2.2 cryptography-37.0.2 fastapi-0.78.0 ffmpy-0.3.0 frozenlist-1.3.0 fsspec-2022.5.0 gradio-3.0.20 h11-0.13.0 linkify-it-py-1.0.3 markdown-it-py-2.1.0 mdit-py-plugins-0.3.0 mdurl-0.1.1 monotonic-1.6 multidict-6.0.2 orjson-3.7.5 paramiko-2.11.0 pycryptodome-3.15.0 pydub-0.25.1 pynacl-1.5.0 python-multipart-0.0.5 sniffio-1.2.0 starlette-0.19.1 uc-micro-py-1.0.1 uvicorn-0.18.2 yarl-1.7.2\n"
          ]
        }
      ]
    },
    {
      "cell_type": "code",
      "execution_count": 15,
      "metadata": {
        "id": "KA9-EQF7j7Q_"
      },
      "outputs": [],
      "source": [
        "\n",
        "def test_video(vid):\n",
        "  features = []\n",
        "  detector = dlib.get_frontal_face_detector()\n",
        "  cap = cv2.VideoCapture(vid)\n",
        "  while True:\n",
        "    ret, image = cap.read()\n",
        "    if not ret:\n",
        "        break\n",
        "    rects = detector(image, 0)\n",
        "    for i, d in enumerate(rects):\n",
        "        x1 = d.left()\n",
        "        y1 = d.top()\n",
        "        x2 = d.right()\n",
        "        y2 = d.bottom()\n",
        "        crop_img = image[y1:y2, x1:x2]\n",
        "        try:\n",
        "            x = np.expand_dims(crop_img, axis=0)\n",
        "            feature = model.predict(x)\n",
        "            flat = feature.flatten()\n",
        "            features.append(flat)   \n",
        "        except:\n",
        "            break  \n",
        "  cv2.destroyAllWindows()\n",
        "  cap.release()  \n",
        "\n",
        "  X = []\n",
        "  for feature in features:\n",
        "    X.append(feature[0:1536]) #X.append(feature[0:6144])\n",
        "\n",
        "  X = np.array(X)\n",
        "  X = X.reshape(-1, 48, 32)\n",
        "  predict_x=classifctn_model.predict(X) \n",
        "  out_vals = classes_x=np.argmax(predict_x,axis=1)\n",
        "  for i in out_vals:\n",
        "    one = 0\n",
        "    zero = 0 \n",
        "    if i==1:\n",
        "      one= one+1\n",
        "    else:\n",
        "      zero=zero+1\n",
        "\n",
        "  if zero>one:\n",
        "    op=\"real\"\n",
        "  else:\n",
        "    op=\"fake\" \n",
        "  \n",
        "  return op"
      ]
    },
    {
      "cell_type": "code",
      "execution_count": 16,
      "metadata": {
        "colab": {
          "base_uri": "https://localhost:8080/",
          "height": 642
        },
        "id": "88FNXK_3zTV9",
        "outputId": "2e8ad8d8-1181-4f5b-9e89-db2a66a6bbd5"
      },
      "outputs": [
        {
          "output_type": "stream",
          "name": "stdout",
          "text": [
            "Colab notebook detected. To show errors in colab notebook, set `debug=True` in `launch()`\n",
            "Running on public URL: https://50553.gradio.app\n",
            "\n",
            "This share link expires in 72 hours. For free permanent hosting, check out Spaces (https://huggingface.co/spaces)\n"
          ]
        },
        {
          "output_type": "display_data",
          "data": {
            "text/plain": [
              "<IPython.core.display.HTML object>"
            ],
            "text/html": [
              "<div><iframe src=\"https://50553.gradio.app\" width=\"900\" height=\"500\" allow=\"autoplay; camera; microphone;\" frameborder=\"0\" allowfullscreen></iframe></div>"
            ]
          },
          "metadata": {}
        },
        {
          "output_type": "execute_result",
          "data": {
            "text/plain": [
              "(<gradio.routes.App at 0x7f8286f94d10>,\n",
              " 'http://127.0.0.1:7860/',\n",
              " 'https://50553.gradio.app')"
            ]
          },
          "metadata": {},
          "execution_count": 16
        }
      ],
      "source": [
        "import gradio as gr\n",
        "\n",
        "\n",
        "def video_flip(vid):\n",
        "    return video\n",
        "\n",
        "\n",
        "demo = gr.Interface(test_video, gr.Video(), outputs=\"text\",\n",
        "    title='DeepFake Video Detection',\n",
        "    description=\"Detection of a video whether it's a deepfake or not\")\n",
        "\n",
        "demo.launch()\n"
      ]
    },
    {
      "cell_type": "code",
      "execution_count": 17,
      "metadata": {
        "id": "R58Keh4_zoMS"
      },
      "outputs": [],
      "source": [
        "#test_video(vid)"
      ]
    },
    {
      "cell_type": "code",
      "execution_count": 17,
      "metadata": {
        "id": "_hoQt9-XOVrt"
      },
      "outputs": [],
      "source": [
        "\n",
        "\n"
      ]
    },
    {
      "cell_type": "code",
      "execution_count": 18,
      "metadata": {
        "id": "JzprLZA-zrlj"
      },
      "outputs": [],
      "source": [
        "\n",
        "#print(X)"
      ]
    },
    {
      "cell_type": "code",
      "execution_count": 18,
      "metadata": {
        "id": "nv_esejXzxV9"
      },
      "outputs": [],
      "source": [
        "\n",
        "\n",
        "\n",
        "\n"
      ]
    },
    {
      "cell_type": "code",
      "execution_count": 18,
      "metadata": {
        "id": "cMGTLEmko0_6"
      },
      "outputs": [],
      "source": [
        ""
      ]
    },
    {
      "cell_type": "code",
      "execution_count": 18,
      "metadata": {
        "id": "-Ahlp1Geu3h4"
      },
      "outputs": [],
      "source": [
        "\n",
        "\n",
        "\n",
        "\n"
      ]
    }
  ],
  "metadata": {
    "colab": {
      "collapsed_sections": [],
      "name": "df_detection_final_with_function.ipynb",
      "provenance": []
    },
    "kernelspec": {
      "display_name": "Python 3",
      "name": "python3"
    },
    "language_info": {
      "name": "python"
    }
  },
  "nbformat": 4,
  "nbformat_minor": 0
}