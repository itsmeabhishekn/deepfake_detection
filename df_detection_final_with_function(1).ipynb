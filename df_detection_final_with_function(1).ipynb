{
  "cells": [
    {
      "cell_type": "code",
      "execution_count": 19,
      "metadata": {
        "id": "ropJfqUTa_Mv"
      },
      "outputs": [],
      "source": [
        "import cv2\n",
        "import dlib #used for face detection\n",
        "import numpy as np\n",
        "from google.colab.patches import cv2_imshow\n",
        "import glob"
      ]
    },
    {
      "cell_type": "code",
      "execution_count": 20,
      "metadata": {
        "colab": {
          "base_uri": "https://localhost:8080/"
        },
        "id": "JPZ9_XW2bHmH",
        "outputId": "7cb4fe83-ecee-491d-8f23-55109a9e7d09"
      },
      "outputs": [
        {
          "output_type": "stream",
          "name": "stdout",
          "text": [
            "Mounted at /content/gdrive/\n"
          ]
        }
      ],
      "source": [
        "from google.colab import drive\n",
        "drive.mount('/content/gdrive/', force_remount=True)"
      ]
    },
    {
      "cell_type": "code",
      "execution_count": 21,
      "metadata": {
        "id": "X12I2peWbdIv"
      },
      "outputs": [],
      "source": [
        "from tensorflow.keras.applications import InceptionResNetV2\n",
        "from tensorflow.keras.layers import InputLayer\n",
        "from tensorflow.keras.models import Model\n",
        "from tensorflow.keras.models import Sequential\n",
        "\n",
        "from tensorflow.keras.models import Model\n",
        "from tensorflow.keras.models import model_from_json\n",
        "from tensorflow.keras.layers import Input\n",
        "from tensorflow.keras.layers import GRU\n",
        "from tensorflow.keras.layers import Dense\n",
        "from tensorflow.keras import optimizers\n",
        "\n",
        "from tensorflow.keras.utils import to_categorical\n",
        "from tensorflow.keras.callbacks import ReduceLROnPlateau, EarlyStopping\n",
        "from sklearn.model_selection import train_test_split"
      ]
    },
    {
      "cell_type": "code",
      "execution_count": 22,
      "metadata": {
        "id": "nGtXxdIwbtvS"
      },
      "outputs": [],
      "source": [
        "base_model = InceptionResNetV2(include_top=False, weights='imagenet', input_shape=(128,128,3))\n",
        "model = Model(inputs=base_model.input, outputs=base_model.get_layer('conv_7b').output)\n",
        "image_size = (128, 128)\n",
        "\n",
        "features = []\n",
        "labels   = []\n",
        "detector = dlib.get_frontal_face_detector()"
      ]
    },
    {
      "cell_type": "code",
      "execution_count": 23,
      "metadata": {
        "id": "2Yp9wGksbjTQ"
      },
      "outputs": [],
      "source": [
        "\n",
        "real_data_list = glob.glob(\"/content/gdrive/MyDrive/main_proj/real/*.mp4\",recursive=True)\n",
        "\n",
        "fake_data_list = glob.glob(\"/content/gdrive/MyDrive/main_proj/fake/fake/*.mp4\",recursive=True)\n",
        "\n",
        "res = [0,1]\n",
        "\n",
        "def preprocess(video_data_list,res):\n",
        "    for vid in video_data_list[:20]:\n",
        "        cap = cv2.VideoCapture(vid)\n",
        "        while True:\n",
        "            ret, image = cap.read()\n",
        "            if not ret:\n",
        "                break\n",
        "            rects = detector(image, 0)\n",
        "            for i, d in enumerate(rects):\n",
        "                x1 = d.left()\n",
        "                y1 = d.top()\n",
        "                x2 = d.right()\n",
        "                y2 = d.bottom()\n",
        "                crop_img = image[y1:y2, x1:x2]\n",
        "                try:\n",
        "                    x = np.expand_dims(crop_img, axis=0)\n",
        "                    feature = model.predict(x)\n",
        "                    #print('feature',feature)\n",
        "                    flat = feature.flatten()\n",
        "                    features.append(flat)   \n",
        "                    labels.append(res)\n",
        "                except:\n",
        "                    break  \n",
        "    cv2.destroyAllWindows()\n",
        "    cap.release()  \n",
        "    #print(len(features))\n",
        "\n",
        "preprocess(real_data_list,res[0])\n",
        "\n",
        "preprocess(fake_data_list,res[1])\n"
      ]
    },
    {
      "cell_type": "code",
      "execution_count": 24,
      "metadata": {
        "id": "8V0hg-dzc3ZT"
      },
      "outputs": [],
      "source": [
        "X = []\n",
        "Y = []\n",
        "for feature in features:\n",
        "  #print(feature.shape)\n",
        "  X.append(feature[0:1536]) #X.append(feature[0:6144])\n",
        "\n",
        "X = np.array(X)\n",
        "Y = to_categorical(labels,2) "
      ]
    },
    {
      "cell_type": "code",
      "execution_count": 25,
      "metadata": {
        "colab": {
          "base_uri": "https://localhost:8080/"
        },
        "id": "GteaQqX4c7hy",
        "outputId": "08139c99-2b89-4481-c7b0-345e87274b31"
      },
      "outputs": [
        {
          "output_type": "stream",
          "name": "stdout",
          "text": [
            "Model: \"sequential_1\"\n",
            "_________________________________________________________________\n",
            " Layer (type)                Output Shape              Param #   \n",
            "=================================================================\n",
            " gru_2 (GRU)                 (None, 48, 256)           222720    \n",
            "                                                                 \n",
            " gru_3 (GRU)                 (None, 256)               394752    \n",
            "                                                                 \n",
            " dense_1 (Dense)             (None, 2)                 514       \n",
            "                                                                 \n",
            "=================================================================\n",
            "Total params: 617,986\n",
            "Trainable params: 617,986\n",
            "Non-trainable params: 0\n",
            "_________________________________________________________________\n"
          ]
        }
      ],
      "source": [
        "classifctn_model = Sequential()\n",
        "classifctn_model.add(Input(shape=(48,32)))\n",
        "classifctn_model.add(GRU(256, return_sequences=True, activation='tanh'))\n",
        "classifctn_model.add(GRU(256,activation='tanh'))\n",
        "classifctn_model.add(Dense(2))\n",
        "\n",
        "classifctn_model.compile(loss='binary_crossentropy',\n",
        "              optimizer=optimizers.Adam(learning_rate=1e-5, beta_1=0.9, beta_2=0.999, epsilon=None, decay=0.0, amsgrad=False),\n",
        "              metrics=['accuracy'])\n",
        "classifctn_model.summary()"
      ]
    },
    {
      "cell_type": "code",
      "execution_count": 26,
      "metadata": {
        "colab": {
          "base_uri": "https://localhost:8080/"
        },
        "id": "GCiUmYf5dAF7",
        "outputId": "7242c63d-375e-4136-c951-9bd42a937d84"
      },
      "outputs": [
        {
          "output_type": "stream",
          "name": "stdout",
          "text": [
            "Epoch 1/20\n",
            "49/49 [==============================] - 30s 550ms/step - loss: 0.7234 - accuracy: 0.5712 - val_loss: 0.6422 - val_accuracy: 0.6809\n",
            "Epoch 2/20\n",
            "49/49 [==============================] - 25s 504ms/step - loss: 0.6166 - accuracy: 0.7246 - val_loss: 0.6118 - val_accuracy: 0.7143\n",
            "Epoch 3/20\n",
            "49/49 [==============================] - 25s 502ms/step - loss: 0.5842 - accuracy: 0.7421 - val_loss: 0.5884 - val_accuracy: 0.7236\n",
            "Epoch 4/20\n",
            "49/49 [==============================] - 25s 503ms/step - loss: 0.5723 - accuracy: 0.7526 - val_loss: 0.5934 - val_accuracy: 0.7199\n",
            "Epoch 5/20\n",
            "49/49 [==============================] - 25s 502ms/step - loss: 0.5551 - accuracy: 0.7547 - val_loss: 0.5638 - val_accuracy: 0.7254\n",
            "Epoch 6/20\n",
            "49/49 [==============================] - 25s 501ms/step - loss: 0.5378 - accuracy: 0.7565 - val_loss: 0.5523 - val_accuracy: 0.7291\n",
            "Epoch 7/20\n",
            "49/49 [==============================] - 25s 501ms/step - loss: 0.5240 - accuracy: 0.7555 - val_loss: 0.5378 - val_accuracy: 0.7347\n",
            "Epoch 8/20\n",
            "49/49 [==============================] - 25s 501ms/step - loss: 0.5111 - accuracy: 0.7590 - val_loss: 0.5288 - val_accuracy: 0.7328\n",
            "Epoch 9/20\n",
            "49/49 [==============================] - 25s 502ms/step - loss: 0.5016 - accuracy: 0.7652 - val_loss: 0.5169 - val_accuracy: 0.7384\n",
            "Epoch 10/20\n",
            "49/49 [==============================] - 25s 506ms/step - loss: 0.4903 - accuracy: 0.7697 - val_loss: 0.5057 - val_accuracy: 0.7365\n",
            "Epoch 11/20\n",
            "49/49 [==============================] - 25s 504ms/step - loss: 0.4787 - accuracy: 0.7739 - val_loss: 0.4958 - val_accuracy: 0.7403\n",
            "Epoch 12/20\n",
            "49/49 [==============================] - 25s 501ms/step - loss: 0.4707 - accuracy: 0.7821 - val_loss: 0.4857 - val_accuracy: 0.7495\n",
            "Epoch 13/20\n",
            "49/49 [==============================] - 26s 534ms/step - loss: 0.4610 - accuracy: 0.7893 - val_loss: 0.4767 - val_accuracy: 0.7570\n",
            "Epoch 14/20\n",
            "49/49 [==============================] - 25s 501ms/step - loss: 0.4544 - accuracy: 0.7934 - val_loss: 0.4689 - val_accuracy: 0.7737\n",
            "Epoch 15/20\n",
            "49/49 [==============================] - 25s 502ms/step - loss: 0.4453 - accuracy: 0.8021 - val_loss: 0.4613 - val_accuracy: 0.7829\n",
            "Epoch 16/20\n",
            "49/49 [==============================] - 25s 500ms/step - loss: 0.4390 - accuracy: 0.8091 - val_loss: 0.4540 - val_accuracy: 0.7866\n",
            "Epoch 17/20\n",
            "49/49 [==============================] - 25s 503ms/step - loss: 0.4344 - accuracy: 0.8176 - val_loss: 0.4519 - val_accuracy: 0.7904\n",
            "Epoch 18/20\n",
            "49/49 [==============================] - 25s 501ms/step - loss: 0.4262 - accuracy: 0.8186 - val_loss: 0.4432 - val_accuracy: 0.7941\n",
            "Epoch 19/20\n",
            "49/49 [==============================] - 24s 497ms/step - loss: 0.4263 - accuracy: 0.8188 - val_loss: 0.4671 - val_accuracy: 0.7811\n",
            "Epoch 20/20\n",
            "49/49 [==============================] - 25s 502ms/step - loss: 0.4257 - accuracy: 0.8204 - val_loss: 0.4468 - val_accuracy: 0.7996\n"
          ]
        }
      ],
      "source": [
        "#Train-Test split\n",
        "X = X.reshape(-1,48,32)\n",
        "X_train, X_val, Y_train, Y_val = train_test_split(X, Y, test_size = 0.1, random_state=5)\n",
        "#early_stopping = EarlyStopping(monitor='val_loss',min_delta=0,patience=2,verbose=0, mode='auto')\n",
        "EPOCHS = 20\n",
        "BATCH_SIZE = 100\n",
        "history = classifctn_model.fit(X_train, Y_train, batch_size = BATCH_SIZE, epochs = EPOCHS, validation_data = (X_val, Y_val), verbose = 1)"
      ]
    },
    {
      "cell_type": "code",
      "execution_count": 27,
      "metadata": {
        "colab": {
          "base_uri": "https://localhost:8080/",
          "height": 295
        },
        "id": "sjcVwg10dQrE",
        "outputId": "91de99a2-53a2-405d-c69c-7ac0bf21bc11"
      },
      "outputs": [
        {
          "output_type": "display_data",
          "data": {
            "text/plain": [
              "<Figure size 432x288 with 1 Axes>"
            ],
            "image/png": "[encoded data removed]"
          },
          "metadata": {
            "needs_background": "light"
          }
        }
      ],
      "source": [
        "# Compute ROC curve and ROC area for each class\n",
        "from sklearn.metrics import roc_curve, auc\n",
        "\n",
        "n_classes = 2\n",
        "fpr = dict()\n",
        "tpr = dict()\n",
        "roc_auc = dict()\n",
        "pred = classifctn_model.predict(X_val)\n",
        "#print(Y_val)\n",
        "#print(pred)\n",
        "for i in range(n_classes):\n",
        "    fpr[i], tpr[i], _ = roc_curve(Y_val[:, i], pred[:, i])\n",
        "    roc_auc[i] = auc(fpr[i], tpr[i])\n",
        "\n",
        "import matplotlib.pyplot as plt\n",
        "# Compute micro-average ROC curve and ROC area\n",
        "fpr[\"micro\"], tpr[\"micro\"], _ = roc_curve(Y_val.ravel(), pred.ravel())\n",
        "roc_auc[\"micro\"] = auc(fpr[\"micro\"], tpr[\"micro\"])\n",
        "\n",
        "plt.figure()\n",
        "lw = 2\n",
        "plt.plot(fpr[0], tpr[0], color='darkorange',\n",
        "         lw=lw, label='ROC curve (area = %0.2f)' % roc_auc[1])\n",
        "plt.plot([0, 1], [0, 1], color='navy', lw=lw, linestyle='--')\n",
        "plt.xlim([0.0, 1.0])\n",
        "plt.ylim([0.0, 1.05])\n",
        "plt.xlabel('False Positive Rate')\n",
        "plt.ylabel('True Positive Rate')\n",
        "plt.title('Receiver operating characteristic example')\n",
        "plt.legend(loc=\"lower right\")\n",
        "plt.show()\n"
      ]
    },
    {
      "cell_type": "code",
      "execution_count": 27,
      "metadata": {
        "id": "6G7Cf9DB5Zjl"
      },
      "outputs": [],
      "source": [
        ""
      ]
    },
    {
      "cell_type": "code",
      "execution_count": 28,
      "metadata": {
        "id": "hExZFxK3jhay"
      },
      "outputs": [],
      "source": [
        "#vid = demo\n",
        "#vid = \"/content/gdrive/MyDrive/main_proj/testvid/r/05.mp4\""
      ]
    },
    {
      "cell_type": "code",
      "source": [
        "!pip install gradio"
      ],
      "metadata": {
        "id": "uUWPdfyjC3_j",
        "colab": {
          "base_uri": "https://localhost:8080/"
        },
        "outputId": "be0ac41d-9533-4f86-a4f2-6e89a0ac5bb2"
      },
      "execution_count": 29,
      "outputs": [
        {
          "output_type": "stream",
          "name": "stdout",
          "text": [
            "Looking in indexes: https://pypi.org/simple, https://us-python.pkg.dev/colab-wheels/public/simple/\n",
            "Requirement already satisfied: gradio in /usr/local/lib/python3.7/dist-packages (3.0.20)\n",
            "Requirement already satisfied: markdown-it-py[linkify,plugins] in /usr/local/lib/python3.7/dist-packages (from gradio) (2.1.0)\n",
            "Requirement already satisfied: paramiko in /usr/local/lib/python3.7/dist-packages (from gradio) (2.11.0)\n",
            "Requirement already satisfied: uvicorn in /usr/local/lib/python3.7/dist-packages (from gradio) (0.18.2)\n",
            "Requirement already satisfied: analytics-python in /usr/local/lib/python3.7/dist-packages (from gradio) (1.4.0)\n",
            "Requirement already satisfied: fsspec in /usr/local/lib/python3.7/dist-packages (from gradio) (2022.5.0)\n",
            "Requirement already satisfied: pandas in /usr/local/lib/python3.7/dist-packages (from gradio) (1.3.5)\n",
            "Requirement already satisfied: matplotlib in /usr/local/lib/python3.7/dist-packages (from gradio) (3.2.2)\n",
            "Requirement already satisfied: Jinja2 in /usr/local/lib/python3.7/dist-packages (from gradio) (2.11.3)\n",
            "Requirement already satisfied: pycryptodome in /usr/local/lib/python3.7/dist-packages (from gradio) (3.15.0)\n",
            "Requirement already satisfied: pillow in /usr/local/lib/python3.7/dist-packages (from gradio) (7.1.2)\n",
            "Requirement already satisfied: numpy in /usr/local/lib/python3.7/dist-packages (from gradio) (1.21.6)\n",
            "Requirement already satisfied: python-multipart in /usr/local/lib/python3.7/dist-packages (from gradio) (0.0.5)\n",
            "Requirement already satisfied: requests in /usr/local/lib/python3.7/dist-packages (from gradio) (2.23.0)\n",
            "Requirement already satisfied: fastapi in /usr/local/lib/python3.7/dist-packages (from gradio) (0.78.0)\n",
            "Requirement already satisfied: aiohttp in /usr/local/lib/python3.7/dist-packages (from gradio) (3.8.1)\n",
            "Requirement already satisfied: ffmpy in /usr/local/lib/python3.7/dist-packages (from gradio) (0.3.0)\n",
            "Requirement already satisfied: orjson in /usr/local/lib/python3.7/dist-packages (from gradio) (3.7.5)\n",
            "Requirement already satisfied: pydub in /usr/local/lib/python3.7/dist-packages (from gradio) (0.25.1)\n",
            "Requirement already satisfied: yarl<2.0,>=1.0 in /usr/local/lib/python3.7/dist-packages (from aiohttp->gradio) (1.7.2)\n",
            "Requirement already satisfied: multidict<7.0,>=4.5 in /usr/local/lib/python3.7/dist-packages (from aiohttp->gradio) (6.0.2)\n",
            "Requirement already satisfied: charset-normalizer<3.0,>=2.0 in /usr/local/lib/python3.7/dist-packages (from aiohttp->gradio) (2.0.12)\n",
            "Requirement already satisfied: aiosignal>=1.1.2 in /usr/local/lib/python3.7/dist-packages (from aiohttp->gradio) (1.2.0)\n",
            "Requirement already satisfied: asynctest==0.13.0 in /usr/local/lib/python3.7/dist-packages (from aiohttp->gradio) (0.13.0)\n",
            "Requirement already satisfied: async-timeout<5.0,>=4.0.0a3 in /usr/local/lib/python3.7/dist-packages (from aiohttp->gradio) (4.0.2)\n",
            "Requirement already satisfied: typing-extensions>=3.7.4 in /usr/local/lib/python3.7/dist-packages (from aiohttp->gradio) (4.1.1)\n",
            "Requirement already satisfied: frozenlist>=1.1.1 in /usr/local/lib/python3.7/dist-packages (from aiohttp->gradio) (1.3.0)\n",
            "Requirement already satisfied: attrs>=17.3.0 in /usr/local/lib/python3.7/dist-packages (from aiohttp->gradio) (21.4.0)\n",
            "Requirement already satisfied: idna>=2.0 in /usr/local/lib/python3.7/dist-packages (from yarl<2.0,>=1.0->aiohttp->gradio) (2.10)\n",
            "Requirement already satisfied: monotonic>=1.5 in /usr/local/lib/python3.7/dist-packages (from analytics-python->gradio) (1.6)\n",
            "Requirement already satisfied: backoff==1.10.0 in /usr/local/lib/python3.7/dist-packages (from analytics-python->gradio) (1.10.0)\n",
            "Requirement already satisfied: python-dateutil>2.1 in /usr/local/lib/python3.7/dist-packages (from analytics-python->gradio) (2.8.2)\n",
            "Requirement already satisfied: six>=1.5 in /usr/local/lib/python3.7/dist-packages (from analytics-python->gradio) (1.15.0)\n",
            "Requirement already satisfied: chardet<4,>=3.0.2 in /usr/local/lib/python3.7/dist-packages (from requests->gradio) (3.0.4)\n",
            "Requirement already satisfied: urllib3!=1.25.0,!=1.25.1,<1.26,>=1.21.1 in /usr/local/lib/python3.7/dist-packages (from requests->gradio) (1.24.3)\n",
            "Requirement already satisfied: certifi>=2017.4.17 in /usr/local/lib/python3.7/dist-packages (from requests->gradio) (2022.6.15)\n",
            "Requirement already satisfied: pydantic!=1.7,!=1.7.1,!=1.7.2,!=1.7.3,!=1.8,!=1.8.1,<2.0.0,>=1.6.2 in /usr/local/lib/python3.7/dist-packages (from fastapi->gradio) (1.8.2)\n",
            "Requirement already satisfied: starlette==0.19.1 in /usr/local/lib/python3.7/dist-packages (from fastapi->gradio) (0.19.1)\n",
            "Requirement already satisfied: anyio<5,>=3.4.0 in /usr/local/lib/python3.7/dist-packages (from starlette==0.19.1->fastapi->gradio) (3.6.1)\n",
            "Requirement already satisfied: sniffio>=1.1 in /usr/local/lib/python3.7/dist-packages (from anyio<5,>=3.4.0->starlette==0.19.1->fastapi->gradio) (1.2.0)\n",
            "Requirement already satisfied: MarkupSafe>=0.23 in /usr/local/lib/python3.7/dist-packages (from Jinja2->gradio) (2.0.1)\n",
            "Requirement already satisfied: mdurl~=0.1 in /usr/local/lib/python3.7/dist-packages (from markdown-it-py[linkify,plugins]->gradio) (0.1.1)\n",
            "Requirement already satisfied: mdit-py-plugins in /usr/local/lib/python3.7/dist-packages (from markdown-it-py[linkify,plugins]->gradio) (0.3.0)\n",
            "Requirement already satisfied: linkify-it-py~=1.0 in /usr/local/lib/python3.7/dist-packages (from markdown-it-py[linkify,plugins]->gradio) (1.0.3)\n",
            "Requirement already satisfied: uc-micro-py in /usr/local/lib/python3.7/dist-packages (from linkify-it-py~=1.0->markdown-it-py[linkify,plugins]->gradio) (1.0.1)\n",
            "Requirement already satisfied: kiwisolver>=1.0.1 in /usr/local/lib/python3.7/dist-packages (from matplotlib->gradio) (1.4.3)\n",
            "Requirement already satisfied: cycler>=0.10 in /usr/local/lib/python3.7/dist-packages (from matplotlib->gradio) (0.11.0)\n",
            "Requirement already satisfied: pyparsing!=2.0.4,!=2.1.2,!=2.1.6,>=2.0.1 in /usr/local/lib/python3.7/dist-packages (from matplotlib->gradio) (3.0.9)\n",
            "Requirement already satisfied: pytz>=2017.3 in /usr/local/lib/python3.7/dist-packages (from pandas->gradio) (2022.1)\n",
            "Requirement already satisfied: pynacl>=1.0.1 in /usr/local/lib/python3.7/dist-packages (from paramiko->gradio) (1.5.0)\n",
            "Requirement already satisfied: bcrypt>=3.1.3 in /usr/local/lib/python3.7/dist-packages (from paramiko->gradio) (3.2.2)\n",
            "Requirement already satisfied: cryptography>=2.5 in /usr/local/lib/python3.7/dist-packages (from paramiko->gradio) (37.0.2)\n",
            "Requirement already satisfied: cffi>=1.1 in /usr/local/lib/python3.7/dist-packages (from bcrypt>=3.1.3->paramiko->gradio) (1.15.0)\n",
            "Requirement already satisfied: pycparser in /usr/local/lib/python3.7/dist-packages (from cffi>=1.1->bcrypt>=3.1.3->paramiko->gradio) (2.21)\n",
            "Requirement already satisfied: h11>=0.8 in /usr/local/lib/python3.7/dist-packages (from uvicorn->gradio) (0.13.0)\n",
            "Requirement already satisfied: click>=7.0 in /usr/local/lib/python3.7/dist-packages (from uvicorn->gradio) (7.1.2)\n"
          ]
        }
      ]
    },
    {
      "cell_type": "code",
      "execution_count": 30,
      "metadata": {
        "id": "KA9-EQF7j7Q_"
      },
      "outputs": [],
      "source": [
        "\n",
        "def test_video(vid):\n",
        "  features = []\n",
        "  detector = dlib.get_frontal_face_detector()\n",
        "  cap = cv2.VideoCapture(vid)\n",
        "  while True:\n",
        "    ret, image = cap.read()\n",
        "    if not ret:\n",
        "        break\n",
        "    rects = detector(image, 0)\n",
        "    for i, d in enumerate(rects):\n",
        "        x1 = d.left()\n",
        "        y1 = d.top()\n",
        "        x2 = d.right()\n",
        "        y2 = d.bottom()\n",
        "        crop_img = image[y1:y2, x1:x2]\n",
        "        try:\n",
        "            x = np.expand_dims(crop_img, axis=0)\n",
        "            feature = model.predict(x)\n",
        "            flat = feature.flatten()\n",
        "            features.append(flat)   \n",
        "        except:\n",
        "            break  \n",
        "  cv2.destroyAllWindows()\n",
        "  cap.release()  \n",
        "\n",
        "  X = []\n",
        "  for feature in features:\n",
        "    X.append(feature[0:1536]) #X.append(feature[0:6144])\n",
        "\n",
        "  X = np.array(X)\n",
        "  X = X.reshape(-1, 48, 32)\n",
        "  predict_x=classifctn_model.predict(X) \n",
        "  out_vals = classes_x=np.argmax(predict_x,axis=1)\n",
        "  for i in out_vals:\n",
        "    one = 0\n",
        "    zero = 0 \n",
        "    if i==1:\n",
        "      one= one+1\n",
        "    else:\n",
        "      zero=zero+1\n",
        "\n",
        "  if zero>one:\n",
        "    op=\"real\"\n",
        "  else:\n",
        "    op=\"fake\" \n",
        "  \n",
        "  return op"
      ]
    },
    {
      "cell_type": "code",
      "execution_count": 31,
      "metadata": {
        "colab": {
          "base_uri": "https://localhost:8080/",
          "height": 642
        },
        "id": "88FNXK_3zTV9",
        "outputId": "f2833bdd-41ba-4d79-cd5e-846b11df59ae"
      },
      "outputs": [
        {
          "output_type": "stream",
          "name": "stdout",
          "text": [
            "Colab notebook detected. To show errors in colab notebook, set `debug=True` in `launch()`\n",
            "Running on public URL: https://32155.gradio.app\n",
            "\n",
            "This share link expires in 72 hours. For free permanent hosting, check out Spaces (https://huggingface.co/spaces)\n"
          ]
        },
        {
          "output_type": "display_data",
          "data": {
            "text/plain": [
              "<IPython.core.display.HTML object>"
            ],
            "text/html": [
              "<div><iframe src=\"https://32155.gradio.app\" width=\"900\" height=\"500\" allow=\"autoplay; camera; microphone;\" frameborder=\"0\" allowfullscreen></iframe></div>"
            ]
          },
          "metadata": {}
        },
        {
          "output_type": "execute_result",
          "data": {
            "text/plain": [
              "(<gradio.routes.App at 0x7f82a06fed10>,\n",
              " 'http://127.0.0.1:7861/',\n",
              " 'https://32155.gradio.app')"
            ]
          },
          "metadata": {},
          "execution_count": 31
        }
      ],
      "source": [
        "import gradio as gr\n",
        "\n",
        "\n",
        "def video_flip(vid):\n",
        "    return video\n",
        "\n",
        "\n",
        "demo = gr.Interface(test_video, gr.Video(), outputs=\"text\",\n",
        "    title='DeepFake Video Detection',\n",
        "    description=\"Detection of a video whether it's a deepfake or not\")\n",
        "\n",
        "demo.launch()\n"
      ]
    },
    {
      "cell_type": "code",
      "execution_count": 32,
      "metadata": {
        "id": "R58Keh4_zoMS"
      },
      "outputs": [],
      "source": [
        "#test_video(vid)"
      ]
    },
    {
      "cell_type": "code",
      "execution_count": 32,
      "metadata": {
        "id": "_hoQt9-XOVrt"
      },
      "outputs": [],
      "source": [
        "\n",
        "\n"
      ]
    },
    {
      "cell_type": "code",
      "execution_count": 33,
      "metadata": {
        "id": "JzprLZA-zrlj"
      },
      "outputs": [],
      "source": [
        "\n",
        "#print(X)"
      ]
    },
    {
      "cell_type": "code",
      "execution_count": 33,
      "metadata": {
        "id": "nv_esejXzxV9"
      },
      "outputs": [],
      "source": [
        "\n",
        "\n",
        "\n",
        "\n"
      ]
    },
    {
      "cell_type": "code",
      "execution_count": 33,
      "metadata": {
        "id": "cMGTLEmko0_6"
      },
      "outputs": [],
      "source": [
        ""
      ]
    },
    {
      "cell_type": "code",
      "execution_count": 33,
      "metadata": {
        "id": "-Ahlp1Geu3h4"
      },
      "outputs": [],
      "source": [
        "\n",
        "\n",
        "\n",
        "\n"
      ]
    }
  ],
  "metadata": {
    "colab": {
      "collapsed_sections": [],
      "name": "df_detection_final_with_function.ipynb",
      "provenance": []
    },
    "kernelspec": {
      "display_name": "Python 3",
      "name": "python3"
    },
    "language_info": {
      "name": "python"
    }
  },
  "nbformat": 4,
  "nbformat_minor": 0
}